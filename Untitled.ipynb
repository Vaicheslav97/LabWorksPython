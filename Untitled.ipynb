{
 "cells": [
  {
   "cell_type": "code",
   "execution_count": 1,
   "metadata": {},
   "outputs": [
    {
     "name": "stdout",
     "output_type": "stream",
     "text": [
      "5 + 3 = 8\n"
     ]
    }
   ],
   "source": [
    "x=5; y = 3;\n",
    "print(x, \"+\", y, \"=\", x+y)"
   ]
  },
  {
   "cell_type": "code",
   "execution_count": 2,
   "metadata": {},
   "outputs": [
    {
     "name": "stdout",
     "output_type": "stream",
     "text": [
      "5 | 3 | 8\n"
     ]
    }
   ],
   "source": [
    "print(x, \"|\", y, \"|\", x+y)"
   ]
  },
  {
   "cell_type": "code",
   "execution_count": 3,
   "metadata": {},
   "outputs": [
    {
     "name": "stdout",
     "output_type": "stream",
     "text": [
      "Z( 5 ) = F( 3 )\n"
     ]
    }
   ],
   "source": [
    "print(\"Z(\",x, \") = F(\", y, \")\")"
   ]
  },
  {
   "cell_type": "code",
   "execution_count": 4,
   "metadata": {},
   "outputs": [
    {
     "name": "stdout",
     "output_type": "stream",
     "text": [
      "x= 5 ; y= 3 ;\n"
     ]
    }
   ],
   "source": [
    "print(\"x=\",x, \"; y=\",y, \";\")"
   ]
  },
  {
   "cell_type": "code",
   "execution_count": 5,
   "metadata": {},
   "outputs": [
    {
     "name": "stdout",
     "output_type": "stream",
     "text": [
      "Відповідь:( 5 ; 3 )\n"
     ]
    }
   ],
   "source": [
    "print(\"Відповідь:(\",x, \";\",y, \")\")"
   ]
  },
  {
   "cell_type": "code",
   "execution_count": 6,
   "metadata": {},
   "outputs": [],
   "source": [
    "#Завдання 1.2: "
   ]
  },
  {
   "cell_type": "code",
   "execution_count": 7,
   "metadata": {},
   "outputs": [
    {
     "name": "stdout",
     "output_type": "stream",
     "text": [
      "x= 5\n",
      "y= 3\n",
      "x + y= 8\n",
      "x * y= 15\n",
      "x / y= 1.6666666666666667\n",
      "x / y= 1\n",
      "x - y= 2\n",
      "x^2= 25\n",
      "y^2= 9\n"
     ]
    }
   ],
   "source": [
    "print(\"x=\",x)\n",
    "print(\"y=\",y)\n",
    "print(\"x + y=\", x+y)\n",
    "print(\"x * y=\", x*y)\n",
    "print(\"x / y=\", x/y)\n",
    "print(\"x / y=\", x//y)\n",
    "print(\"x - y=\", x-y)\n",
    "print(\"x^2=\",x**2)\n",
    "print(\"y^2=\",y**2)"
   ]
  },
  {
   "cell_type": "code",
   "execution_count": null,
   "metadata": {},
   "outputs": [],
   "source": [
    "#Завдання 1.3: \n",
    "payment=int (input(\"payment =\")); time = int (input(\"time =\"));\n",
    "Rezult=payment*time\n",
    "if(time>40):Rezult=Rezult*1.5\n",
    "print(\"Rezult=\",Rezult)"
   ]
  },
  {
   "cell_type": "code",
   "execution_count": 12,
   "metadata": {},
   "outputs": [
    {
     "name": "stdout",
     "output_type": "stream",
     "text": [
      "x =1\n",
      "A =2\n",
      "B =3\n",
      "a =4\n",
      "b =5\n",
      "c =6\n",
      "Rezult= 7.07295330586814\n",
      "Rezult= -14.467677707799512\n",
      "Rezult= 9.688830349121048\n",
      "Rezult= 1.5\n",
      "Rezult= -0.24744072634343794\n",
      "Rezult= 0.0\n"
     ]
    }
   ],
   "source": [
    "#Завдання 1.4: \n",
    "import math\n",
    "x=int (input(\"x =\")); A = int (input(\"A =\")); B = int (input(\"B =\")); \n",
    "a=int (input(\"a =\")); b = int (input(\"b =\")); c = int (input(\"c =\"));\n",
    "print(\"Rezult=\", (0.51**3+A*B)/1+math.cos(x**2)+A/(A+B))\n",
    "print(\"Rezult=\", 0.87*abs(a**2+math.sqrt(b)*a)/(x-1+((1+b)/(1-b))))\n",
    "print(\"Rezult=\", (1+x)**2/math.sqrt(1+x**2)/(math.cos(x)**2))\n",
    "print(\"Rezult=\", 0.5*x-(abs((a*x-b)+c)*x-b/x-1))\n",
    "print(\"Rezult=\", a*b/c + abs(a-b)/math.cos(a)**3)\n",
    "print(\"Rezult=\", math.sqrt(abs(x+math.sqrt(x**2))/1-2*x))  \n",
    " "
   ]
  },
  {
   "cell_type": "code",
   "execution_count": 14,
   "metadata": {},
   "outputs": [
    {
     "name": "stdout",
     "output_type": "stream",
     "text": [
      "[1, 2, 3, 4, 5, 1, 1, 2, 3, [1, 3, 4]]\n"
     ]
    }
   ],
   "source": [
    "l = [1, 2, 3, 4, 5, 1, 1, 2, 3]\n",
    "l.append([1, 3, 4])\n",
    "print(l)"
   ]
  },
  {
   "cell_type": "code",
   "execution_count": 15,
   "metadata": {},
   "outputs": [
    {
     "name": "stdout",
     "output_type": "stream",
     "text": [
      "n=5\n",
      "120\n"
     ]
    }
   ],
   "source": [
    "n = int(input(\"n=\"))\n",
    "\n",
    "factorial = 1\n",
    "while n > 1:\n",
    "    factorial *= n\n",
    "    n -= 1\n",
    "\n",
    "print(factorial)"
   ]
  },
  {
   "cell_type": "code",
   "execution_count": null,
   "metadata": {},
   "outputs": [],
   "source": []
  }
 ],
 "metadata": {
  "kernelspec": {
   "display_name": "Python 3",
   "language": "python",
   "name": "python3"
  },
  "language_info": {
   "codemirror_mode": {
    "name": "ipython",
    "version": 3
   },
   "file_extension": ".py",
   "mimetype": "text/x-python",
   "name": "python",
   "nbconvert_exporter": "python",
   "pygments_lexer": "ipython3",
   "version": "3.7.3"
  }
 },
 "nbformat": 4,
 "nbformat_minor": 4
}
